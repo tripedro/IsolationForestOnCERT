{
 "cells": [
  {
   "cell_type": "code",
   "execution_count": 1,
   "metadata": {},
   "outputs": [],
   "source": [
    "import pandas as pd\n",
    "\n",
    "# Define the base path\n",
    "base_path = \"C:/Users/trist/insider_threat/data/r4.2/\"\n",
    "\n",
    "# Load each CSV file into a separate DataFrame\n",
    "device_df = pd.read_csv(base_path + \"device.csv\")\n",
    "email_df = pd.read_csv(base_path + \"email.csv\")\n",
    "file_df = pd.read_csv(base_path + \"file.csv\")\n",
    "http_df = pd.read_csv(base_path + \"http.csv\")\n",
    "logon_df = pd.read_csv(base_path + \"logon.csv\")\n",
    "psychometric_df = pd.read_csv(base_path + \"psychometric.csv\")\n",
    "\n",
    "# Load LDAP data\n",
    "# ldap_df = pd.read_csv(base_path + \"ldap/2009-12.csv\")  # Example for one file\n"
   ]
  },
  {
   "cell_type": "code",
   "execution_count": null,
   "metadata": {},
   "outputs": [],
   "source": []
  }
 ],
 "metadata": {
  "kernelspec": {
   "display_name": "base",
   "language": "python",
   "name": "python3"
  },
  "language_info": {
   "codemirror_mode": {
    "name": "ipython",
    "version": 3
   },
   "file_extension": ".py",
   "mimetype": "text/x-python",
   "name": "python",
   "nbconvert_exporter": "python",
   "pygments_lexer": "ipython3",
   "version": "3.11.4"
  }
 },
 "nbformat": 4,
 "nbformat_minor": 2
}
