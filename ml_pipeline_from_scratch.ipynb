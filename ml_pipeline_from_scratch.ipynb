{
 "cells": [
  {
   "cell_type": "code",
   "execution_count": 2,
   "metadata": {},
   "outputs": [],
   "source": [
    "from sklearn.model_selection import train_test_split\n",
    "from sklearn.preprocessing import StandardScaler, OneHotEncoder\n",
    "from sklearn.compose import ColumnTransformer\n",
    "from sklearn.pipeline import Pipeline\n",
    "from sklearn.ensemble import IsolationForest\n",
    "import matplotlib.pyplot as plt\n",
    "import numpy as np\n",
    "from sklearn.metrics import roc_curve, auc\n",
    "import numpy as np\n",
    "from collections import Counter\n",
    "import pandas as pd"
   ]
  },
  {
   "cell_type": "markdown",
   "metadata": {},
   "source": [
    "## Load Data"
   ]
  },
  {
   "cell_type": "code",
   "execution_count": 3,
   "metadata": {},
   "outputs": [],
   "source": [
    "# Define the base path\n",
    "base_path = \"data/r4.2/\"\n",
    "\n",
    "# Load each CSV file into a separate DataFrame\n",
    "device_df = pd.read_csv(base_path + \"device.csv\")\n",
    "email_df = pd.read_csv(base_path + \"email.csv\")\n",
    "file_df = pd.read_csv(base_path + \"file.csv\")\n",
    "http_df = pd.read_csv(base_path + \"http.csv\")\n",
    "logon_df = pd.read_csv(base_path + \"logon.csv\")\n"
   ]
  },
  {
   "cell_type": "markdown",
   "metadata": {},
   "source": [
    "## Data Exploration"
   ]
  },
  {
   "cell_type": "markdown",
   "metadata": {},
   "source": [
    "### Device.csv"
   ]
  },
  {
   "cell_type": "code",
   "execution_count": 4,
   "metadata": {},
   "outputs": [
    {
     "data": {
      "text/html": [
       "<div>\n",
       "<style scoped>\n",
       "    .dataframe tbody tr th:only-of-type {\n",
       "        vertical-align: middle;\n",
       "    }\n",
       "\n",
       "    .dataframe tbody tr th {\n",
       "        vertical-align: top;\n",
       "    }\n",
       "\n",
       "    .dataframe thead th {\n",
       "        text-align: right;\n",
       "    }\n",
       "</style>\n",
       "<table border=\"1\" class=\"dataframe\">\n",
       "  <thead>\n",
       "    <tr style=\"text-align: right;\">\n",
       "      <th></th>\n",
       "      <th>id</th>\n",
       "      <th>date</th>\n",
       "      <th>user</th>\n",
       "      <th>pc</th>\n",
       "      <th>activity</th>\n",
       "    </tr>\n",
       "  </thead>\n",
       "  <tbody>\n",
       "    <tr>\n",
       "      <th>0</th>\n",
       "      <td>{J1S3-L9UU75BQ-7790ATPL}</td>\n",
       "      <td>01/02/2010 07:21:06</td>\n",
       "      <td>MOH0273</td>\n",
       "      <td>PC-6699</td>\n",
       "      <td>Connect</td>\n",
       "    </tr>\n",
       "    <tr>\n",
       "      <th>1</th>\n",
       "      <td>{N7B5-Y7BB27SI-2946PUJK}</td>\n",
       "      <td>01/02/2010 07:37:41</td>\n",
       "      <td>MOH0273</td>\n",
       "      <td>PC-6699</td>\n",
       "      <td>Disconnect</td>\n",
       "    </tr>\n",
       "    <tr>\n",
       "      <th>2</th>\n",
       "      <td>{U1V9-Z7XT67KV-5649MYHI}</td>\n",
       "      <td>01/02/2010 07:59:11</td>\n",
       "      <td>HPH0075</td>\n",
       "      <td>PC-2417</td>\n",
       "      <td>Connect</td>\n",
       "    </tr>\n",
       "    <tr>\n",
       "      <th>3</th>\n",
       "      <td>{H0Z7-E6GB57XZ-1603MOXD}</td>\n",
       "      <td>01/02/2010 07:59:49</td>\n",
       "      <td>IIW0249</td>\n",
       "      <td>PC-0843</td>\n",
       "      <td>Connect</td>\n",
       "    </tr>\n",
       "    <tr>\n",
       "      <th>4</th>\n",
       "      <td>{L7P2-G4PX02RX-7999GYOY}</td>\n",
       "      <td>01/02/2010 08:04:26</td>\n",
       "      <td>IIW0249</td>\n",
       "      <td>PC-0843</td>\n",
       "      <td>Disconnect</td>\n",
       "    </tr>\n",
       "  </tbody>\n",
       "</table>\n",
       "</div>"
      ],
      "text/plain": [
       "                         id                 date     user       pc    activity\n",
       "0  {J1S3-L9UU75BQ-7790ATPL}  01/02/2010 07:21:06  MOH0273  PC-6699     Connect\n",
       "1  {N7B5-Y7BB27SI-2946PUJK}  01/02/2010 07:37:41  MOH0273  PC-6699  Disconnect\n",
       "2  {U1V9-Z7XT67KV-5649MYHI}  01/02/2010 07:59:11  HPH0075  PC-2417     Connect\n",
       "3  {H0Z7-E6GB57XZ-1603MOXD}  01/02/2010 07:59:49  IIW0249  PC-0843     Connect\n",
       "4  {L7P2-G4PX02RX-7999GYOY}  01/02/2010 08:04:26  IIW0249  PC-0843  Disconnect"
      ]
     },
     "execution_count": 4,
     "metadata": {},
     "output_type": "execute_result"
    }
   ],
   "source": [
    "# view data\n",
    "device_df.head()"
   ]
  },
  {
   "cell_type": "code",
   "execution_count": 5,
   "metadata": {},
   "outputs": [
    {
     "data": {
      "text/plain": [
       "id          0\n",
       "date        0\n",
       "user        0\n",
       "pc          0\n",
       "activity    0\n",
       "dtype: int64"
      ]
     },
     "execution_count": 5,
     "metadata": {},
     "output_type": "execute_result"
    }
   ],
   "source": [
    "# check for missing values\n",
    "device_df.isnull().sum()"
   ]
  },
  {
   "cell_type": "code",
   "execution_count": 6,
   "metadata": {},
   "outputs": [
    {
     "data": {
      "text/plain": [
       "id          object\n",
       "date        object\n",
       "user        object\n",
       "pc          object\n",
       "activity    object\n",
       "dtype: object"
      ]
     },
     "execution_count": 6,
     "metadata": {},
     "output_type": "execute_result"
    }
   ],
   "source": [
    "# data types for each column\n",
    "device_df.dtypes"
   ]
  },
  {
   "cell_type": "markdown",
   "metadata": {},
   "source": [
    "### Email.csv"
   ]
  },
  {
   "cell_type": "code",
   "execution_count": 7,
   "metadata": {},
   "outputs": [
    {
     "data": {
      "text/html": [
       "<div>\n",
       "<style scoped>\n",
       "    .dataframe tbody tr th:only-of-type {\n",
       "        vertical-align: middle;\n",
       "    }\n",
       "\n",
       "    .dataframe tbody tr th {\n",
       "        vertical-align: top;\n",
       "    }\n",
       "\n",
       "    .dataframe thead th {\n",
       "        text-align: right;\n",
       "    }\n",
       "</style>\n",
       "<table border=\"1\" class=\"dataframe\">\n",
       "  <thead>\n",
       "    <tr style=\"text-align: right;\">\n",
       "      <th></th>\n",
       "      <th>id</th>\n",
       "      <th>date</th>\n",
       "      <th>user</th>\n",
       "      <th>pc</th>\n",
       "      <th>to</th>\n",
       "      <th>cc</th>\n",
       "      <th>bcc</th>\n",
       "      <th>from</th>\n",
       "      <th>size</th>\n",
       "      <th>attachments</th>\n",
       "      <th>content</th>\n",
       "    </tr>\n",
       "  </thead>\n",
       "  <tbody>\n",
       "    <tr>\n",
       "      <th>0</th>\n",
       "      <td>{R3I7-S4TX96FG-8219JWFF}</td>\n",
       "      <td>01/02/2010 07:11:45</td>\n",
       "      <td>LAP0338</td>\n",
       "      <td>PC-5758</td>\n",
       "      <td>Dean.Flynn.Hines@dtaa.com;Wade_Harrison@lockhe...</td>\n",
       "      <td>Nathaniel.Hunter.Heath@dtaa.com</td>\n",
       "      <td>NaN</td>\n",
       "      <td>Lynn.Adena.Pratt@dtaa.com</td>\n",
       "      <td>25830</td>\n",
       "      <td>0</td>\n",
       "      <td>middle f2 systems 4 july techniques powerful d...</td>\n",
       "    </tr>\n",
       "    <tr>\n",
       "      <th>1</th>\n",
       "      <td>{R0R9-E4GL59IK-2907OSWJ}</td>\n",
       "      <td>01/02/2010 07:12:16</td>\n",
       "      <td>MOH0273</td>\n",
       "      <td>PC-6699</td>\n",
       "      <td>Odonnell-Gage@bellsouth.net</td>\n",
       "      <td>NaN</td>\n",
       "      <td>NaN</td>\n",
       "      <td>MOH68@optonline.net</td>\n",
       "      <td>29942</td>\n",
       "      <td>0</td>\n",
       "      <td>the breaking called allied reservations former...</td>\n",
       "    </tr>\n",
       "    <tr>\n",
       "      <th>2</th>\n",
       "      <td>{G2B2-A8XY58CP-2847ZJZL}</td>\n",
       "      <td>01/02/2010 07:13:00</td>\n",
       "      <td>LAP0338</td>\n",
       "      <td>PC-5758</td>\n",
       "      <td>Penelope_Colon@netzero.com</td>\n",
       "      <td>NaN</td>\n",
       "      <td>NaN</td>\n",
       "      <td>Lynn_A_Pratt@earthlink.net</td>\n",
       "      <td>28780</td>\n",
       "      <td>0</td>\n",
       "      <td>slowly this uncinus winter beneath addition ex...</td>\n",
       "    </tr>\n",
       "    <tr>\n",
       "      <th>3</th>\n",
       "      <td>{A3A9-F4TH89AA-8318GFGK}</td>\n",
       "      <td>01/02/2010 07:13:17</td>\n",
       "      <td>LAP0338</td>\n",
       "      <td>PC-5758</td>\n",
       "      <td>Judith_Hayden@comcast.net</td>\n",
       "      <td>NaN</td>\n",
       "      <td>NaN</td>\n",
       "      <td>Lynn_A_Pratt@earthlink.net</td>\n",
       "      <td>21907</td>\n",
       "      <td>0</td>\n",
       "      <td>400 other difficult land cirrocumulus powered ...</td>\n",
       "    </tr>\n",
       "    <tr>\n",
       "      <th>4</th>\n",
       "      <td>{E8B7-C8FZ88UF-2946RUQQ}</td>\n",
       "      <td>01/02/2010 07:13:28</td>\n",
       "      <td>MOH0273</td>\n",
       "      <td>PC-6699</td>\n",
       "      <td>Bond-Raymond@verizon.net;Alea_Ferrell@msn.com;...</td>\n",
       "      <td>NaN</td>\n",
       "      <td>Odonnell-Gage@bellsouth.net</td>\n",
       "      <td>MOH68@optonline.net</td>\n",
       "      <td>17319</td>\n",
       "      <td>0</td>\n",
       "      <td>this kmh october holliswood number advised unu...</td>\n",
       "    </tr>\n",
       "  </tbody>\n",
       "</table>\n",
       "</div>"
      ],
      "text/plain": [
       "                         id                 date     user       pc  \\\n",
       "0  {R3I7-S4TX96FG-8219JWFF}  01/02/2010 07:11:45  LAP0338  PC-5758   \n",
       "1  {R0R9-E4GL59IK-2907OSWJ}  01/02/2010 07:12:16  MOH0273  PC-6699   \n",
       "2  {G2B2-A8XY58CP-2847ZJZL}  01/02/2010 07:13:00  LAP0338  PC-5758   \n",
       "3  {A3A9-F4TH89AA-8318GFGK}  01/02/2010 07:13:17  LAP0338  PC-5758   \n",
       "4  {E8B7-C8FZ88UF-2946RUQQ}  01/02/2010 07:13:28  MOH0273  PC-6699   \n",
       "\n",
       "                                                  to  \\\n",
       "0  Dean.Flynn.Hines@dtaa.com;Wade_Harrison@lockhe...   \n",
       "1                        Odonnell-Gage@bellsouth.net   \n",
       "2                         Penelope_Colon@netzero.com   \n",
       "3                          Judith_Hayden@comcast.net   \n",
       "4  Bond-Raymond@verizon.net;Alea_Ferrell@msn.com;...   \n",
       "\n",
       "                                cc                          bcc  \\\n",
       "0  Nathaniel.Hunter.Heath@dtaa.com                          NaN   \n",
       "1                              NaN                          NaN   \n",
       "2                              NaN                          NaN   \n",
       "3                              NaN                          NaN   \n",
       "4                              NaN  Odonnell-Gage@bellsouth.net   \n",
       "\n",
       "                         from   size  attachments  \\\n",
       "0   Lynn.Adena.Pratt@dtaa.com  25830            0   \n",
       "1         MOH68@optonline.net  29942            0   \n",
       "2  Lynn_A_Pratt@earthlink.net  28780            0   \n",
       "3  Lynn_A_Pratt@earthlink.net  21907            0   \n",
       "4         MOH68@optonline.net  17319            0   \n",
       "\n",
       "                                             content  \n",
       "0  middle f2 systems 4 july techniques powerful d...  \n",
       "1  the breaking called allied reservations former...  \n",
       "2  slowly this uncinus winter beneath addition ex...  \n",
       "3  400 other difficult land cirrocumulus powered ...  \n",
       "4  this kmh october holliswood number advised unu...  "
      ]
     },
     "execution_count": 7,
     "metadata": {},
     "output_type": "execute_result"
    }
   ],
   "source": [
    "# view data\n",
    "email_df.head()"
   ]
  },
  {
   "cell_type": "code",
   "execution_count": 8,
   "metadata": {},
   "outputs": [
    {
     "data": {
      "text/plain": [
       "id                   0\n",
       "date                 0\n",
       "user                 0\n",
       "pc                   0\n",
       "to                   0\n",
       "cc             1617054\n",
       "bcc            2212977\n",
       "from                 0\n",
       "size                 0\n",
       "attachments          0\n",
       "content              0\n",
       "dtype: int64"
      ]
     },
     "execution_count": 8,
     "metadata": {},
     "output_type": "execute_result"
    }
   ],
   "source": [
    "# check for missing values\n",
    "email_df.isnull().sum()"
   ]
  },
  {
   "cell_type": "code",
   "execution_count": 9,
   "metadata": {},
   "outputs": [],
   "source": [
    "# null values in cc and bcc, but this is normal, so lets just say there is \"None\" if a NaN exists\n",
    "email_df['cc'].fillna('None', inplace=True)\n",
    "email_df['bcc'].fillna('None', inplace=True)"
   ]
  },
  {
   "cell_type": "code",
   "execution_count": 10,
   "metadata": {},
   "outputs": [
    {
     "data": {
      "text/plain": [
       "id             object\n",
       "date           object\n",
       "user           object\n",
       "pc             object\n",
       "to             object\n",
       "cc             object\n",
       "bcc            object\n",
       "from           object\n",
       "size            int64\n",
       "attachments     int64\n",
       "content        object\n",
       "dtype: object"
      ]
     },
     "execution_count": 10,
     "metadata": {},
     "output_type": "execute_result"
    }
   ],
   "source": [
    "# data types for each column\n",
    "email_df.dtypes"
   ]
  },
  {
   "cell_type": "markdown",
   "metadata": {},
   "source": [
    "### File.csv"
   ]
  },
  {
   "cell_type": "code",
   "execution_count": 11,
   "metadata": {},
   "outputs": [
    {
     "data": {
      "text/html": [
       "<div>\n",
       "<style scoped>\n",
       "    .dataframe tbody tr th:only-of-type {\n",
       "        vertical-align: middle;\n",
       "    }\n",
       "\n",
       "    .dataframe tbody tr th {\n",
       "        vertical-align: top;\n",
       "    }\n",
       "\n",
       "    .dataframe thead th {\n",
       "        text-align: right;\n",
       "    }\n",
       "</style>\n",
       "<table border=\"1\" class=\"dataframe\">\n",
       "  <thead>\n",
       "    <tr style=\"text-align: right;\">\n",
       "      <th></th>\n",
       "      <th>id</th>\n",
       "      <th>date</th>\n",
       "      <th>user</th>\n",
       "      <th>pc</th>\n",
       "      <th>filename</th>\n",
       "      <th>content</th>\n",
       "    </tr>\n",
       "  </thead>\n",
       "  <tbody>\n",
       "    <tr>\n",
       "      <th>0</th>\n",
       "      <td>{L9G8-J9QE34VM-2834VDPB}</td>\n",
       "      <td>01/02/2010 07:23:14</td>\n",
       "      <td>MOH0273</td>\n",
       "      <td>PC-6699</td>\n",
       "      <td>EYPC9Y08.doc</td>\n",
       "      <td>D0-CF-11-E0-A1-B1-1A-E1 during difficulty over...</td>\n",
       "    </tr>\n",
       "    <tr>\n",
       "      <th>1</th>\n",
       "      <td>{H0W6-L4FG38XG-9897XTEN}</td>\n",
       "      <td>01/02/2010 07:26:19</td>\n",
       "      <td>MOH0273</td>\n",
       "      <td>PC-6699</td>\n",
       "      <td>N3LTSU3O.pdf</td>\n",
       "      <td>25-50-44-46-2D carpenters 25 landed strait dis...</td>\n",
       "    </tr>\n",
       "    <tr>\n",
       "      <th>2</th>\n",
       "      <td>{M3Z0-O2KK89OX-5716MBIM}</td>\n",
       "      <td>01/02/2010 08:12:03</td>\n",
       "      <td>HPH0075</td>\n",
       "      <td>PC-2417</td>\n",
       "      <td>D3D3WC9W.doc</td>\n",
       "      <td>D0-CF-11-E0-A1-B1-1A-E1 union 24 declined impo...</td>\n",
       "    </tr>\n",
       "    <tr>\n",
       "      <th>3</th>\n",
       "      <td>{E1I4-S4QS61TG-3652YHKR}</td>\n",
       "      <td>01/02/2010 08:17:00</td>\n",
       "      <td>HPH0075</td>\n",
       "      <td>PC-2417</td>\n",
       "      <td>QCSW62YS.doc</td>\n",
       "      <td>D0-CF-11-E0-A1-B1-1A-E1 becoming period begin ...</td>\n",
       "    </tr>\n",
       "    <tr>\n",
       "      <th>4</th>\n",
       "      <td>{D4R7-E7JL45UX-0067XALT}</td>\n",
       "      <td>01/02/2010 08:24:57</td>\n",
       "      <td>HSB0196</td>\n",
       "      <td>PC-8001</td>\n",
       "      <td>AU75JV6U.jpg</td>\n",
       "      <td>FF-D8</td>\n",
       "    </tr>\n",
       "  </tbody>\n",
       "</table>\n",
       "</div>"
      ],
      "text/plain": [
       "                         id                 date     user       pc  \\\n",
       "0  {L9G8-J9QE34VM-2834VDPB}  01/02/2010 07:23:14  MOH0273  PC-6699   \n",
       "1  {H0W6-L4FG38XG-9897XTEN}  01/02/2010 07:26:19  MOH0273  PC-6699   \n",
       "2  {M3Z0-O2KK89OX-5716MBIM}  01/02/2010 08:12:03  HPH0075  PC-2417   \n",
       "3  {E1I4-S4QS61TG-3652YHKR}  01/02/2010 08:17:00  HPH0075  PC-2417   \n",
       "4  {D4R7-E7JL45UX-0067XALT}  01/02/2010 08:24:57  HSB0196  PC-8001   \n",
       "\n",
       "       filename                                            content  \n",
       "0  EYPC9Y08.doc  D0-CF-11-E0-A1-B1-1A-E1 during difficulty over...  \n",
       "1  N3LTSU3O.pdf  25-50-44-46-2D carpenters 25 landed strait dis...  \n",
       "2  D3D3WC9W.doc  D0-CF-11-E0-A1-B1-1A-E1 union 24 declined impo...  \n",
       "3  QCSW62YS.doc  D0-CF-11-E0-A1-B1-1A-E1 becoming period begin ...  \n",
       "4  AU75JV6U.jpg                                              FF-D8  "
      ]
     },
     "execution_count": 11,
     "metadata": {},
     "output_type": "execute_result"
    }
   ],
   "source": [
    "# view data\n",
    "file_df.head()"
   ]
  },
  {
   "cell_type": "code",
   "execution_count": 12,
   "metadata": {},
   "outputs": [
    {
     "data": {
      "text/plain": [
       "id          0\n",
       "date        0\n",
       "user        0\n",
       "pc          0\n",
       "filename    0\n",
       "content     0\n",
       "dtype: int64"
      ]
     },
     "execution_count": 12,
     "metadata": {},
     "output_type": "execute_result"
    }
   ],
   "source": [
    "# check for missing values\n",
    "file_df.isnull().sum()"
   ]
  },
  {
   "cell_type": "code",
   "execution_count": 13,
   "metadata": {},
   "outputs": [
    {
     "data": {
      "text/plain": [
       "id          object\n",
       "date        object\n",
       "user        object\n",
       "pc          object\n",
       "filename    object\n",
       "content     object\n",
       "dtype: object"
      ]
     },
     "execution_count": 13,
     "metadata": {},
     "output_type": "execute_result"
    }
   ],
   "source": [
    "# data types for each column\n",
    "file_df.dtypes"
   ]
  },
  {
   "cell_type": "markdown",
   "metadata": {},
   "source": [
    "### Http.csv"
   ]
  },
  {
   "cell_type": "code",
   "execution_count": 14,
   "metadata": {},
   "outputs": [
    {
     "data": {
      "text/html": [
       "<div>\n",
       "<style scoped>\n",
       "    .dataframe tbody tr th:only-of-type {\n",
       "        vertical-align: middle;\n",
       "    }\n",
       "\n",
       "    .dataframe tbody tr th {\n",
       "        vertical-align: top;\n",
       "    }\n",
       "\n",
       "    .dataframe thead th {\n",
       "        text-align: right;\n",
       "    }\n",
       "</style>\n",
       "<table border=\"1\" class=\"dataframe\">\n",
       "  <thead>\n",
       "    <tr style=\"text-align: right;\">\n",
       "      <th></th>\n",
       "      <th>id</th>\n",
       "      <th>date</th>\n",
       "      <th>user</th>\n",
       "      <th>pc</th>\n",
       "      <th>url</th>\n",
       "      <th>content</th>\n",
       "    </tr>\n",
       "  </thead>\n",
       "  <tbody>\n",
       "    <tr>\n",
       "      <th>0</th>\n",
       "      <td>{V1Y4-S2IR20QU-6154HFXJ}</td>\n",
       "      <td>01/02/2010 06:55:16</td>\n",
       "      <td>LRR0148</td>\n",
       "      <td>PC-4275</td>\n",
       "      <td>http://msn.com/The_Human_Centipede_First_Seque...</td>\n",
       "      <td>remain representatives consensus concert altho...</td>\n",
       "    </tr>\n",
       "    <tr>\n",
       "      <th>1</th>\n",
       "      <td>{Q5R1-T3EF87UE-2395RWZS}</td>\n",
       "      <td>01/02/2010 07:00:13</td>\n",
       "      <td>NGF0157</td>\n",
       "      <td>PC-6056</td>\n",
       "      <td>http://urbanspoon.com/Plunketts_Creek_Loyalsoc...</td>\n",
       "      <td>festival off northwards than congestion partne...</td>\n",
       "    </tr>\n",
       "    <tr>\n",
       "      <th>2</th>\n",
       "      <td>{X9O1-O0XW52VO-5806RPHG}</td>\n",
       "      <td>01/02/2010 07:03:46</td>\n",
       "      <td>NGF0157</td>\n",
       "      <td>PC-6056</td>\n",
       "      <td>http://aa.com/Rhodocene/rhodocenium/fhaavatqrf...</td>\n",
       "      <td>long away reorganized baldwin seth business 18...</td>\n",
       "    </tr>\n",
       "    <tr>\n",
       "      <th>3</th>\n",
       "      <td>{G5S8-U5OG04TE-5299CCTU}</td>\n",
       "      <td>01/02/2010 07:05:26</td>\n",
       "      <td>IRM0931</td>\n",
       "      <td>PC-7188</td>\n",
       "      <td>http://groupon.com/Leonhard_Euler/leonhard/tne...</td>\n",
       "      <td>among german schwein experimental becomes prev...</td>\n",
       "    </tr>\n",
       "    <tr>\n",
       "      <th>4</th>\n",
       "      <td>{L0R4-A9DH29VP-4553AUWM}</td>\n",
       "      <td>01/02/2010 07:05:52</td>\n",
       "      <td>IRM0931</td>\n",
       "      <td>PC-7188</td>\n",
       "      <td>http://flickr.com/Inauguration_of_Barack_Obama...</td>\n",
       "      <td>kate criteria j 2008 highest 12 include books ...</td>\n",
       "    </tr>\n",
       "  </tbody>\n",
       "</table>\n",
       "</div>"
      ],
      "text/plain": [
       "                         id                 date     user       pc  \\\n",
       "0  {V1Y4-S2IR20QU-6154HFXJ}  01/02/2010 06:55:16  LRR0148  PC-4275   \n",
       "1  {Q5R1-T3EF87UE-2395RWZS}  01/02/2010 07:00:13  NGF0157  PC-6056   \n",
       "2  {X9O1-O0XW52VO-5806RPHG}  01/02/2010 07:03:46  NGF0157  PC-6056   \n",
       "3  {G5S8-U5OG04TE-5299CCTU}  01/02/2010 07:05:26  IRM0931  PC-7188   \n",
       "4  {L0R4-A9DH29VP-4553AUWM}  01/02/2010 07:05:52  IRM0931  PC-7188   \n",
       "\n",
       "                                                 url  \\\n",
       "0  http://msn.com/The_Human_Centipede_First_Seque...   \n",
       "1  http://urbanspoon.com/Plunketts_Creek_Loyalsoc...   \n",
       "2  http://aa.com/Rhodocene/rhodocenium/fhaavatqrf...   \n",
       "3  http://groupon.com/Leonhard_Euler/leonhard/tne...   \n",
       "4  http://flickr.com/Inauguration_of_Barack_Obama...   \n",
       "\n",
       "                                             content  \n",
       "0  remain representatives consensus concert altho...  \n",
       "1  festival off northwards than congestion partne...  \n",
       "2  long away reorganized baldwin seth business 18...  \n",
       "3  among german schwein experimental becomes prev...  \n",
       "4  kate criteria j 2008 highest 12 include books ...  "
      ]
     },
     "execution_count": 14,
     "metadata": {},
     "output_type": "execute_result"
    }
   ],
   "source": [
    "# view data\n",
    "http_df.head()"
   ]
  },
  {
   "cell_type": "code",
   "execution_count": 15,
   "metadata": {},
   "outputs": [
    {
     "name": "stdout",
     "output_type": "stream",
     "text": [
      "id         0\n",
      "date       0\n",
      "user       0\n",
      "pc         0\n",
      "url        0\n",
      "content    0\n",
      "dtype: int64\n"
     ]
    }
   ],
   "source": [
    "# check for missing values\n",
    "#http_df.isnull().sum() # took 1m 33s\n",
    "print(\"\"\"id         0\n",
    "date       0\n",
    "user       0\n",
    "pc         0\n",
    "url        0\n",
    "content    0\n",
    "dtype: int64\"\"\")"
   ]
  },
  {
   "cell_type": "code",
   "execution_count": 16,
   "metadata": {},
   "outputs": [
    {
     "data": {
      "text/plain": [
       "id         object\n",
       "date       object\n",
       "user       object\n",
       "pc         object\n",
       "url        object\n",
       "content    object\n",
       "dtype: object"
      ]
     },
     "execution_count": 16,
     "metadata": {},
     "output_type": "execute_result"
    }
   ],
   "source": [
    "# data types for each column\n",
    "http_df.dtypes"
   ]
  },
  {
   "cell_type": "markdown",
   "metadata": {},
   "source": [
    "### Logon.csv"
   ]
  },
  {
   "cell_type": "code",
   "execution_count": 17,
   "metadata": {},
   "outputs": [
    {
     "data": {
      "text/html": [
       "<div>\n",
       "<style scoped>\n",
       "    .dataframe tbody tr th:only-of-type {\n",
       "        vertical-align: middle;\n",
       "    }\n",
       "\n",
       "    .dataframe tbody tr th {\n",
       "        vertical-align: top;\n",
       "    }\n",
       "\n",
       "    .dataframe thead th {\n",
       "        text-align: right;\n",
       "    }\n",
       "</style>\n",
       "<table border=\"1\" class=\"dataframe\">\n",
       "  <thead>\n",
       "    <tr style=\"text-align: right;\">\n",
       "      <th></th>\n",
       "      <th>id</th>\n",
       "      <th>date</th>\n",
       "      <th>user</th>\n",
       "      <th>pc</th>\n",
       "      <th>activity</th>\n",
       "    </tr>\n",
       "  </thead>\n",
       "  <tbody>\n",
       "    <tr>\n",
       "      <th>0</th>\n",
       "      <td>{X1D9-S0ES98JV-5357PWMI}</td>\n",
       "      <td>01/02/2010 06:49:00</td>\n",
       "      <td>NGF0157</td>\n",
       "      <td>PC-6056</td>\n",
       "      <td>Logon</td>\n",
       "    </tr>\n",
       "    <tr>\n",
       "      <th>1</th>\n",
       "      <td>{G2B3-L6EJ61GT-2222RKSO}</td>\n",
       "      <td>01/02/2010 06:50:00</td>\n",
       "      <td>LRR0148</td>\n",
       "      <td>PC-4275</td>\n",
       "      <td>Logon</td>\n",
       "    </tr>\n",
       "    <tr>\n",
       "      <th>2</th>\n",
       "      <td>{U6Q3-U0WE70UA-3770UREL}</td>\n",
       "      <td>01/02/2010 06:53:04</td>\n",
       "      <td>LRR0148</td>\n",
       "      <td>PC-4124</td>\n",
       "      <td>Logon</td>\n",
       "    </tr>\n",
       "    <tr>\n",
       "      <th>3</th>\n",
       "      <td>{I0N5-R7NA26TG-6263KNGM}</td>\n",
       "      <td>01/02/2010 07:00:00</td>\n",
       "      <td>IRM0931</td>\n",
       "      <td>PC-7188</td>\n",
       "      <td>Logon</td>\n",
       "    </tr>\n",
       "    <tr>\n",
       "      <th>4</th>\n",
       "      <td>{D1S0-N6FH62BT-5398KANK}</td>\n",
       "      <td>01/02/2010 07:00:00</td>\n",
       "      <td>MOH0273</td>\n",
       "      <td>PC-6699</td>\n",
       "      <td>Logon</td>\n",
       "    </tr>\n",
       "  </tbody>\n",
       "</table>\n",
       "</div>"
      ],
      "text/plain": [
       "                         id                 date     user       pc activity\n",
       "0  {X1D9-S0ES98JV-5357PWMI}  01/02/2010 06:49:00  NGF0157  PC-6056    Logon\n",
       "1  {G2B3-L6EJ61GT-2222RKSO}  01/02/2010 06:50:00  LRR0148  PC-4275    Logon\n",
       "2  {U6Q3-U0WE70UA-3770UREL}  01/02/2010 06:53:04  LRR0148  PC-4124    Logon\n",
       "3  {I0N5-R7NA26TG-6263KNGM}  01/02/2010 07:00:00  IRM0931  PC-7188    Logon\n",
       "4  {D1S0-N6FH62BT-5398KANK}  01/02/2010 07:00:00  MOH0273  PC-6699    Logon"
      ]
     },
     "execution_count": 17,
     "metadata": {},
     "output_type": "execute_result"
    }
   ],
   "source": [
    "# view data\n",
    "logon_df.head()"
   ]
  },
  {
   "cell_type": "code",
   "execution_count": 18,
   "metadata": {},
   "outputs": [
    {
     "data": {
      "text/plain": [
       "id          0\n",
       "date        0\n",
       "user        0\n",
       "pc          0\n",
       "activity    0\n",
       "dtype: int64"
      ]
     },
     "execution_count": 18,
     "metadata": {},
     "output_type": "execute_result"
    }
   ],
   "source": [
    "# check for missing values\n",
    "logon_df.isnull().sum()"
   ]
  },
  {
   "cell_type": "code",
   "execution_count": 19,
   "metadata": {},
   "outputs": [
    {
     "data": {
      "text/plain": [
       "id          object\n",
       "date        object\n",
       "user        object\n",
       "pc          object\n",
       "activity    object\n",
       "dtype: object"
      ]
     },
     "execution_count": 19,
     "metadata": {},
     "output_type": "execute_result"
    }
   ],
   "source": [
    "# data types for each column\n",
    "logon_df.dtypes"
   ]
  },
  {
   "cell_type": "markdown",
   "metadata": {},
   "source": [
    "## Feature Engineering"
   ]
  },
  {
   "cell_type": "code",
   "execution_count": 20,
   "metadata": {},
   "outputs": [],
   "source": [
    "# converting date to day\n",
    "device_df['date'] = pd.to_datetime(device_df['date']).dt.date\n",
    "email_df['date'] = pd.to_datetime(email_df['date']).dt.date\n",
    "file_df['date'] = pd.to_datetime(file_df['date']).dt.date\n",
    "logon_df['date'] = pd.to_datetime(logon_df['date']).dt.date\n",
    "http_df['date'] = pd.to_datetime(http_df['date']).dt.date\n",
    "\n",
    "# extract hour and weekday once, then use these for conditions\n",
    "device_df['hour'] = pd.to_datetime(device_df['date']).dt.hour\n",
    "device_df['weekday'] = pd.to_datetime(device_df['date']).dt.weekday\n",
    "\n",
    "# apply conditions using vectorized operations\n",
    "conditions = [\n",
    "    (device_df['activity'] == 'Connect') & (device_df['weekday'] < 5) & (device_df['hour'] >= 8) & (device_df['hour'] < 17),\n",
    "    (device_df['activity'] == 'Connect') & (device_df['weekday'] < 5) & ~((device_df['hour'] >= 8) & (device_df['hour'] < 17)),\n",
    "    (device_df['activity'] == 'Connect') & (device_df['weekday'] >= 5),\n",
    "    (device_df['activity'] != 'Connect')\n",
    "]\n",
    "choices = ['Connect_Normal', 'Connect_After', 'Connect_Weekend', 'Disconnect']\n",
    "device_df['device_activity_type'] = np.select(conditions, choices, default='None')\n",
    "\n",
    "def check_external_emails(column):\n",
    "    return column.str.contains('@(?:(?!dtaa.com).)*$', regex=True)\n",
    "\n",
    "email_df['email_direction'] = np.where(\n",
    "    check_external_emails(email_df['to']) | \n",
    "    check_external_emails(email_df['cc']) | \n",
    "    check_external_emails(email_df['bcc']), \n",
    "    'Email_Out', \n",
    "    'Email_In'\n",
    ")\n",
    "\n",
    "conditions = [\n",
    "    file_df['filename'].str.lower().str.endswith('.exe'),\n",
    "    file_df['filename'].str.lower().str.endswith('.jpg'),\n",
    "    file_df['filename'].str.lower().str.endswith('.zip'),\n",
    "]\n",
    "choices = ['File_exe', 'File_jpg', 'File_zip']  # Corresponding choices\n",
    "file_df['file_extension_type'] = np.select(conditions, choices, default='File_other')\n",
    "\n",
    "# extract hour and weekday\n",
    "logon_df['hour'] = pd.to_datetime(logon_df['date']).dt.hour\n",
    "logon_df['weekday'] = pd.to_datetime(logon_df['date']).dt.weekday\n",
    "\n",
    "# apply conditions\n",
    "conditions = [\n",
    "    (logon_df['activity'] == 'Logon') & (logon_df['weekday'] < 5) & (logon_df['hour'] >= 8) & (logon_df['hour'] < 17),\n",
    "    (logon_df['activity'] == 'Logon') & (logon_df['weekday'] < 5) & ~((logon_df['hour'] >= 8) & (logon_df['hour'] < 17)),\n",
    "    (logon_df['activity'] == 'Logon') & (logon_df['weekday'] >= 5),\n",
    "    (logon_df['activity'] != 'Logon')\n",
    "]\n",
    "choices = ['Weekday_Logon_Normal', 'Weekday_Logon_After', 'Weekend_Logon', 'Logoff']\n",
    "logon_df['logon_time_category'] = np.select(conditions, choices, default='None')\n",
    "\n",
    "http_df['http_interaction'] = 'url'\n",
    "\n"
   ]
  },
  {
   "cell_type": "markdown",
   "metadata": {},
   "source": [
    "## Extract Features"
   ]
  },
  {
   "cell_type": "code",
   "execution_count": 21,
   "metadata": {},
   "outputs": [],
   "source": [
    "# select features we want from each df (including engineered features)\n",
    "device_features_df = device_df[['date', 'user', 'activity', 'device_activity_type']]\n",
    "email_features_df = email_df[['date', 'user', 'to', 'cc', 'bcc', 'email_direction']]\n",
    "file_features_df = file_df[['date', 'user', 'filename', 'file_extension_type']]\n",
    "logon_features_df = logon_df[['date', 'user', 'activity', 'logon_time_category']]\n",
    "http_features_df = http_df[['date', 'user', 'url', 'http_interaction']]"
   ]
  },
  {
   "cell_type": "markdown",
   "metadata": {},
   "source": [
    "### Data Integration"
   ]
  },
  {
   "cell_type": "code",
   "execution_count": 22,
   "metadata": {},
   "outputs": [],
   "source": [
    "# add together all our dfs (took approx 2 min)\n",
    "combined_df = pd.concat([device_features_df, email_features_df, file_features_df, logon_features_df, http_features_df])"
   ]
  },
  {
   "cell_type": "code",
   "execution_count": 23,
   "metadata": {},
   "outputs": [
    {
     "data": {
      "text/html": [
       "<div>\n",
       "<style scoped>\n",
       "    .dataframe tbody tr th:only-of-type {\n",
       "        vertical-align: middle;\n",
       "    }\n",
       "\n",
       "    .dataframe tbody tr th {\n",
       "        vertical-align: top;\n",
       "    }\n",
       "\n",
       "    .dataframe thead th {\n",
       "        text-align: right;\n",
       "    }\n",
       "</style>\n",
       "<table border=\"1\" class=\"dataframe\">\n",
       "  <thead>\n",
       "    <tr style=\"text-align: right;\">\n",
       "      <th></th>\n",
       "      <th>date</th>\n",
       "      <th>user</th>\n",
       "      <th>activity</th>\n",
       "      <th>device_activity_type</th>\n",
       "      <th>to</th>\n",
       "      <th>cc</th>\n",
       "      <th>bcc</th>\n",
       "      <th>email_direction</th>\n",
       "      <th>filename</th>\n",
       "      <th>file_extension_type</th>\n",
       "      <th>logon_time_category</th>\n",
       "      <th>url</th>\n",
       "      <th>http_interaction</th>\n",
       "    </tr>\n",
       "  </thead>\n",
       "  <tbody>\n",
       "    <tr>\n",
       "      <th>0</th>\n",
       "      <td>2010-01-02</td>\n",
       "      <td>MOH0273</td>\n",
       "      <td>Connect</td>\n",
       "      <td>Connect_Weekend</td>\n",
       "      <td>NaN</td>\n",
       "      <td>NaN</td>\n",
       "      <td>NaN</td>\n",
       "      <td>NaN</td>\n",
       "      <td>NaN</td>\n",
       "      <td>NaN</td>\n",
       "      <td>NaN</td>\n",
       "      <td>NaN</td>\n",
       "      <td>NaN</td>\n",
       "    </tr>\n",
       "    <tr>\n",
       "      <th>1</th>\n",
       "      <td>2010-01-02</td>\n",
       "      <td>MOH0273</td>\n",
       "      <td>Disconnect</td>\n",
       "      <td>Disconnect</td>\n",
       "      <td>NaN</td>\n",
       "      <td>NaN</td>\n",
       "      <td>NaN</td>\n",
       "      <td>NaN</td>\n",
       "      <td>NaN</td>\n",
       "      <td>NaN</td>\n",
       "      <td>NaN</td>\n",
       "      <td>NaN</td>\n",
       "      <td>NaN</td>\n",
       "    </tr>\n",
       "    <tr>\n",
       "      <th>2</th>\n",
       "      <td>2010-01-02</td>\n",
       "      <td>HPH0075</td>\n",
       "      <td>Connect</td>\n",
       "      <td>Connect_Weekend</td>\n",
       "      <td>NaN</td>\n",
       "      <td>NaN</td>\n",
       "      <td>NaN</td>\n",
       "      <td>NaN</td>\n",
       "      <td>NaN</td>\n",
       "      <td>NaN</td>\n",
       "      <td>NaN</td>\n",
       "      <td>NaN</td>\n",
       "      <td>NaN</td>\n",
       "    </tr>\n",
       "    <tr>\n",
       "      <th>3</th>\n",
       "      <td>2010-01-02</td>\n",
       "      <td>IIW0249</td>\n",
       "      <td>Connect</td>\n",
       "      <td>Connect_Weekend</td>\n",
       "      <td>NaN</td>\n",
       "      <td>NaN</td>\n",
       "      <td>NaN</td>\n",
       "      <td>NaN</td>\n",
       "      <td>NaN</td>\n",
       "      <td>NaN</td>\n",
       "      <td>NaN</td>\n",
       "      <td>NaN</td>\n",
       "      <td>NaN</td>\n",
       "    </tr>\n",
       "    <tr>\n",
       "      <th>4</th>\n",
       "      <td>2010-01-02</td>\n",
       "      <td>IIW0249</td>\n",
       "      <td>Disconnect</td>\n",
       "      <td>Disconnect</td>\n",
       "      <td>NaN</td>\n",
       "      <td>NaN</td>\n",
       "      <td>NaN</td>\n",
       "      <td>NaN</td>\n",
       "      <td>NaN</td>\n",
       "      <td>NaN</td>\n",
       "      <td>NaN</td>\n",
       "      <td>NaN</td>\n",
       "      <td>NaN</td>\n",
       "    </tr>\n",
       "  </tbody>\n",
       "</table>\n",
       "</div>"
      ],
      "text/plain": [
       "         date     user    activity device_activity_type   to   cc  bcc  \\\n",
       "0  2010-01-02  MOH0273     Connect      Connect_Weekend  NaN  NaN  NaN   \n",
       "1  2010-01-02  MOH0273  Disconnect           Disconnect  NaN  NaN  NaN   \n",
       "2  2010-01-02  HPH0075     Connect      Connect_Weekend  NaN  NaN  NaN   \n",
       "3  2010-01-02  IIW0249     Connect      Connect_Weekend  NaN  NaN  NaN   \n",
       "4  2010-01-02  IIW0249  Disconnect           Disconnect  NaN  NaN  NaN   \n",
       "\n",
       "  email_direction filename file_extension_type logon_time_category  url  \\\n",
       "0             NaN      NaN                 NaN                 NaN  NaN   \n",
       "1             NaN      NaN                 NaN                 NaN  NaN   \n",
       "2             NaN      NaN                 NaN                 NaN  NaN   \n",
       "3             NaN      NaN                 NaN                 NaN  NaN   \n",
       "4             NaN      NaN                 NaN                 NaN  NaN   \n",
       "\n",
       "  http_interaction  \n",
       "0              NaN  \n",
       "1              NaN  \n",
       "2              NaN  \n",
       "3              NaN  \n",
       "4              NaN  "
      ]
     },
     "execution_count": 23,
     "metadata": {},
     "output_type": "execute_result"
    }
   ],
   "source": [
    "# view\n",
    "combined_df.head()\n",
    "\n",
    "#combined_df.to_csv(\"selected_features.csv\", index=False)"
   ]
  },
  {
   "cell_type": "code",
   "execution_count": 24,
   "metadata": {},
   "outputs": [],
   "source": [
    "# group by user and date, then aggregate features\n",
    "aggregated_df = combined_df.groupby(['user', 'date']).agg({\n",
    "    'activity': 'count',  # count of activities\n",
    "    'to': lambda x: x.nunique(),  # count of unique email recipients\n",
    "    'cc': lambda x: x.nunique(),\n",
    "    'bcc': lambda x: x.nunique(),\n",
    "    'filename': lambda x: x.nunique(),  # count of unique files accessed\n",
    "    'url': lambda x: x.nunique(),  # count of unique URLs accessed\n",
    "    'device_activity_type': lambda x: x.mode()[0] if not x.mode().empty else 'None',  # most common device activity type\n",
    "    'email_direction': lambda x: x.mode()[0] if not x.mode().empty else 'None',  # most common email direction\n",
    "    'file_extension_type': lambda x: x.mode()[0] if not x.mode().empty else 'None',  # most common file extension type\n",
    "    'logon_time_category': lambda x: x.mode()[0] if not x.mode().empty else 'None',  # most common logon time category\n",
    "    'http_interaction': lambda x: x.mode()[0] if not x.mode().empty else 'None'  # most common HTTP interaction\n",
    "}).reset_index()"
   ]
  },
  {
   "cell_type": "code",
   "execution_count": 25,
   "metadata": {},
   "outputs": [],
   "source": [
    "aggregated_df.head()\n",
    "\n",
    "aggregated_df.to_csv(\"aggregate_df.csv\", index=False)"
   ]
  },
  {
   "cell_type": "code",
   "execution_count": 26,
   "metadata": {},
   "outputs": [],
   "source": [
    "# Actual threat_actors within dataset (our labels)\n",
    "threat_actors=[\"AAM0658\",\"AJR0932\",\"BDV0168\",\"BIH0745\",\"BLS0678\",\"BTL0226\",\"CAH0936\",\"DCH0843\",\"EHB0824\",\"EHD0584\",\"FMG0527\",\"FTM0406\",\"GHL0460\",\"HJB0742\",\"JMB0308\",\"JRG0207\",\"KLH0596\",\"KPC0073\",\"LJR0523\",\"LQC0479\",\"MAR0955\",\"MAS0025\",\"MCF0600\",\"MYD0978\",\"PPF0435\",\"RAB0589\",\"RGG0064\",\"RKD0604\",\"TAP0551\",\"WDD0366\",\"AAF0535\",\"ABC0174\",\"AKR0057\",\"CCL0068\",\"CEJ0109\",\"CQW0652\",\"DIB0285\",\"DRR0162\",\"EDB0714\",\"EGD0132\",\"FSC0601\",\"HBO0413\",\"HXL0968\",\"IJM0776\",\"IKR0401\",\"IUB0565\",\"JJM0203\",\"KRL0501\",\"LCC0819\",\"MDH0580\",\"MOS0047\",\"NWT0098\",\"PNL0301\",\"PSF0133\",\"RAR0725\",\"RHL0992\",\"RMW0542\",\"TNM0961\",\"VSS0154\",\"XHW0498\",\"BBS0039\",\"BSS0369\",\"CCA0046\",\"CSC0217\",\"GTD0219\",\"JGT0221\",\"JLM0364\",\"JTM0223\",\"MPM0220\",\"MSO0222\",]\n",
    "\n",
    "# Create a new column in your dataframe for labels\n",
    "aggregated_df['is_threat'] = aggregated_df['user'].isin(threat_actors).astype(int)"
   ]
  },
  {
   "cell_type": "code",
   "execution_count": 27,
   "metadata": {},
   "outputs": [
    {
     "data": {
      "text/html": [
       "<div>\n",
       "<style scoped>\n",
       "    .dataframe tbody tr th:only-of-type {\n",
       "        vertical-align: middle;\n",
       "    }\n",
       "\n",
       "    .dataframe tbody tr th {\n",
       "        vertical-align: top;\n",
       "    }\n",
       "\n",
       "    .dataframe thead th {\n",
       "        text-align: right;\n",
       "    }\n",
       "</style>\n",
       "<table border=\"1\" class=\"dataframe\">\n",
       "  <thead>\n",
       "    <tr style=\"text-align: right;\">\n",
       "      <th></th>\n",
       "      <th>user</th>\n",
       "      <th>date</th>\n",
       "      <th>activity</th>\n",
       "      <th>to</th>\n",
       "      <th>cc</th>\n",
       "      <th>bcc</th>\n",
       "      <th>filename</th>\n",
       "      <th>url</th>\n",
       "      <th>device_activity_type</th>\n",
       "      <th>email_direction</th>\n",
       "      <th>file_extension_type</th>\n",
       "      <th>logon_time_category</th>\n",
       "      <th>http_interaction</th>\n",
       "      <th>is_threat</th>\n",
       "    </tr>\n",
       "  </thead>\n",
       "  <tbody>\n",
       "    <tr>\n",
       "      <th>0</th>\n",
       "      <td>AAE0190</td>\n",
       "      <td>2010-01-04</td>\n",
       "      <td>2</td>\n",
       "      <td>14</td>\n",
       "      <td>5</td>\n",
       "      <td>1</td>\n",
       "      <td>0</td>\n",
       "      <td>54</td>\n",
       "      <td>None</td>\n",
       "      <td>Email_In</td>\n",
       "      <td>None</td>\n",
       "      <td>Logoff</td>\n",
       "      <td>url</td>\n",
       "      <td>0</td>\n",
       "    </tr>\n",
       "    <tr>\n",
       "      <th>1</th>\n",
       "      <td>AAE0190</td>\n",
       "      <td>2010-01-05</td>\n",
       "      <td>2</td>\n",
       "      <td>13</td>\n",
       "      <td>3</td>\n",
       "      <td>1</td>\n",
       "      <td>0</td>\n",
       "      <td>53</td>\n",
       "      <td>None</td>\n",
       "      <td>Email_Out</td>\n",
       "      <td>None</td>\n",
       "      <td>Logoff</td>\n",
       "      <td>url</td>\n",
       "      <td>0</td>\n",
       "    </tr>\n",
       "    <tr>\n",
       "      <th>2</th>\n",
       "      <td>AAE0190</td>\n",
       "      <td>2010-01-06</td>\n",
       "      <td>2</td>\n",
       "      <td>11</td>\n",
       "      <td>5</td>\n",
       "      <td>1</td>\n",
       "      <td>0</td>\n",
       "      <td>51</td>\n",
       "      <td>None</td>\n",
       "      <td>Email_In</td>\n",
       "      <td>None</td>\n",
       "      <td>Logoff</td>\n",
       "      <td>url</td>\n",
       "      <td>0</td>\n",
       "    </tr>\n",
       "    <tr>\n",
       "      <th>3</th>\n",
       "      <td>AAE0190</td>\n",
       "      <td>2010-01-07</td>\n",
       "      <td>2</td>\n",
       "      <td>13</td>\n",
       "      <td>6</td>\n",
       "      <td>1</td>\n",
       "      <td>0</td>\n",
       "      <td>48</td>\n",
       "      <td>None</td>\n",
       "      <td>Email_In</td>\n",
       "      <td>None</td>\n",
       "      <td>Logoff</td>\n",
       "      <td>url</td>\n",
       "      <td>0</td>\n",
       "    </tr>\n",
       "    <tr>\n",
       "      <th>4</th>\n",
       "      <td>AAE0190</td>\n",
       "      <td>2010-01-08</td>\n",
       "      <td>2</td>\n",
       "      <td>11</td>\n",
       "      <td>6</td>\n",
       "      <td>1</td>\n",
       "      <td>0</td>\n",
       "      <td>53</td>\n",
       "      <td>None</td>\n",
       "      <td>Email_In</td>\n",
       "      <td>None</td>\n",
       "      <td>Logoff</td>\n",
       "      <td>url</td>\n",
       "      <td>0</td>\n",
       "    </tr>\n",
       "  </tbody>\n",
       "</table>\n",
       "</div>"
      ],
      "text/plain": [
       "      user        date  activity  to  cc  bcc  filename  url  \\\n",
       "0  AAE0190  2010-01-04         2  14   5    1         0   54   \n",
       "1  AAE0190  2010-01-05         2  13   3    1         0   53   \n",
       "2  AAE0190  2010-01-06         2  11   5    1         0   51   \n",
       "3  AAE0190  2010-01-07         2  13   6    1         0   48   \n",
       "4  AAE0190  2010-01-08         2  11   6    1         0   53   \n",
       "\n",
       "  device_activity_type email_direction file_extension_type  \\\n",
       "0                 None        Email_In                None   \n",
       "1                 None       Email_Out                None   \n",
       "2                 None        Email_In                None   \n",
       "3                 None        Email_In                None   \n",
       "4                 None        Email_In                None   \n",
       "\n",
       "  logon_time_category http_interaction  is_threat  \n",
       "0              Logoff              url          0  \n",
       "1              Logoff              url          0  \n",
       "2              Logoff              url          0  \n",
       "3              Logoff              url          0  \n",
       "4              Logoff              url          0  "
      ]
     },
     "execution_count": 27,
     "metadata": {},
     "output_type": "execute_result"
    }
   ],
   "source": [
    "# view top 5 entries\n",
    "aggregated_df.head()"
   ]
  },
  {
   "cell_type": "code",
   "execution_count": 28,
   "metadata": {},
   "outputs": [
    {
     "data": {
      "text/plain": [
       "user                    0\n",
       "date                    0\n",
       "activity                0\n",
       "to                      0\n",
       "cc                      0\n",
       "bcc                     0\n",
       "filename                0\n",
       "url                     0\n",
       "device_activity_type    0\n",
       "email_direction         0\n",
       "file_extension_type     0\n",
       "logon_time_category     0\n",
       "http_interaction        0\n",
       "is_threat               0\n",
       "dtype: int64"
      ]
     },
     "execution_count": 28,
     "metadata": {},
     "output_type": "execute_result"
    }
   ],
   "source": [
    "# check for missing values\n",
    "aggregated_df.isnull().sum()"
   ]
  },
  {
   "cell_type": "code",
   "execution_count": 29,
   "metadata": {},
   "outputs": [
    {
     "name": "stdout",
     "output_type": "stream",
     "text": [
      "(264361, 523) (66091, 523) (264361,) (66091,)\n"
     ]
    }
   ],
   "source": [
    "# select features and target variable\n",
    "X = aggregated_df.drop(['user', 'is_threat'], axis=1)  # Drop user identifier and label\n",
    "y = aggregated_df['is_threat']\n",
    "\n",
    "# define preprocessing for numerical and categorical data\n",
    "numerical_cols = X.select_dtypes(include=['int64', 'float64']).columns\n",
    "categorical_cols = X.select_dtypes(include=['object', 'bool']).columns\n",
    "\n",
    "preprocessor = ColumnTransformer(\n",
    "    transformers=[\n",
    "        ('num', StandardScaler(), numerical_cols),\n",
    "        ('cat', OneHotEncoder(), categorical_cols)\n",
    "    ]\n",
    ")\n",
    "\n",
    "# create a preprocessing and training pipeline\n",
    "pipeline = Pipeline(steps=[('preprocessor', preprocessor)])\n",
    "\n",
    "# apply transformations\n",
    "X_transformed = pipeline.fit_transform(X)\n",
    "\n",
    "# split the data into train and test sets\n",
    "X_train, X_test, y_train, y_test = train_test_split(X_transformed, y, test_size=0.2, stratify=y, random_state=42)\n",
    "\n",
    "# check the shape of the datasets\n",
    "print(X_train.shape, X_test.shape, y_train.shape, y_test.shape)"
   ]
  },
  {
   "cell_type": "code",
   "execution_count": 30,
   "metadata": {},
   "outputs": [
    {
     "data": {
      "text/html": [
       "<div>\n",
       "<style scoped>\n",
       "    .dataframe tbody tr th:only-of-type {\n",
       "        vertical-align: middle;\n",
       "    }\n",
       "\n",
       "    .dataframe tbody tr th {\n",
       "        vertical-align: top;\n",
       "    }\n",
       "\n",
       "    .dataframe thead th {\n",
       "        text-align: right;\n",
       "    }\n",
       "</style>\n",
       "<table border=\"1\" class=\"dataframe\">\n",
       "  <thead>\n",
       "    <tr style=\"text-align: right;\">\n",
       "      <th></th>\n",
       "      <th>user</th>\n",
       "      <th>date</th>\n",
       "      <th>activity</th>\n",
       "      <th>to</th>\n",
       "      <th>cc</th>\n",
       "      <th>bcc</th>\n",
       "      <th>filename</th>\n",
       "      <th>url</th>\n",
       "      <th>device_activity_type</th>\n",
       "      <th>email_direction</th>\n",
       "      <th>file_extension_type</th>\n",
       "      <th>logon_time_category</th>\n",
       "      <th>http_interaction</th>\n",
       "      <th>is_threat</th>\n",
       "    </tr>\n",
       "  </thead>\n",
       "  <tbody>\n",
       "    <tr>\n",
       "      <th>0</th>\n",
       "      <td>AAE0190</td>\n",
       "      <td>2010-01-04</td>\n",
       "      <td>2</td>\n",
       "      <td>14</td>\n",
       "      <td>5</td>\n",
       "      <td>1</td>\n",
       "      <td>0</td>\n",
       "      <td>54</td>\n",
       "      <td>None</td>\n",
       "      <td>Email_In</td>\n",
       "      <td>None</td>\n",
       "      <td>Logoff</td>\n",
       "      <td>url</td>\n",
       "      <td>0</td>\n",
       "    </tr>\n",
       "    <tr>\n",
       "      <th>1</th>\n",
       "      <td>AAE0190</td>\n",
       "      <td>2010-01-05</td>\n",
       "      <td>2</td>\n",
       "      <td>13</td>\n",
       "      <td>3</td>\n",
       "      <td>1</td>\n",
       "      <td>0</td>\n",
       "      <td>53</td>\n",
       "      <td>None</td>\n",
       "      <td>Email_Out</td>\n",
       "      <td>None</td>\n",
       "      <td>Logoff</td>\n",
       "      <td>url</td>\n",
       "      <td>0</td>\n",
       "    </tr>\n",
       "    <tr>\n",
       "      <th>2</th>\n",
       "      <td>AAE0190</td>\n",
       "      <td>2010-01-06</td>\n",
       "      <td>2</td>\n",
       "      <td>11</td>\n",
       "      <td>5</td>\n",
       "      <td>1</td>\n",
       "      <td>0</td>\n",
       "      <td>51</td>\n",
       "      <td>None</td>\n",
       "      <td>Email_In</td>\n",
       "      <td>None</td>\n",
       "      <td>Logoff</td>\n",
       "      <td>url</td>\n",
       "      <td>0</td>\n",
       "    </tr>\n",
       "    <tr>\n",
       "      <th>3</th>\n",
       "      <td>AAE0190</td>\n",
       "      <td>2010-01-07</td>\n",
       "      <td>2</td>\n",
       "      <td>13</td>\n",
       "      <td>6</td>\n",
       "      <td>1</td>\n",
       "      <td>0</td>\n",
       "      <td>48</td>\n",
       "      <td>None</td>\n",
       "      <td>Email_In</td>\n",
       "      <td>None</td>\n",
       "      <td>Logoff</td>\n",
       "      <td>url</td>\n",
       "      <td>0</td>\n",
       "    </tr>\n",
       "    <tr>\n",
       "      <th>4</th>\n",
       "      <td>AAE0190</td>\n",
       "      <td>2010-01-08</td>\n",
       "      <td>2</td>\n",
       "      <td>11</td>\n",
       "      <td>6</td>\n",
       "      <td>1</td>\n",
       "      <td>0</td>\n",
       "      <td>53</td>\n",
       "      <td>None</td>\n",
       "      <td>Email_In</td>\n",
       "      <td>None</td>\n",
       "      <td>Logoff</td>\n",
       "      <td>url</td>\n",
       "      <td>0</td>\n",
       "    </tr>\n",
       "  </tbody>\n",
       "</table>\n",
       "</div>"
      ],
      "text/plain": [
       "      user        date  activity  to  cc  bcc  filename  url  \\\n",
       "0  AAE0190  2010-01-04         2  14   5    1         0   54   \n",
       "1  AAE0190  2010-01-05         2  13   3    1         0   53   \n",
       "2  AAE0190  2010-01-06         2  11   5    1         0   51   \n",
       "3  AAE0190  2010-01-07         2  13   6    1         0   48   \n",
       "4  AAE0190  2010-01-08         2  11   6    1         0   53   \n",
       "\n",
       "  device_activity_type email_direction file_extension_type  \\\n",
       "0                 None        Email_In                None   \n",
       "1                 None       Email_Out                None   \n",
       "2                 None        Email_In                None   \n",
       "3                 None        Email_In                None   \n",
       "4                 None        Email_In                None   \n",
       "\n",
       "  logon_time_category http_interaction  is_threat  \n",
       "0              Logoff              url          0  \n",
       "1              Logoff              url          0  \n",
       "2              Logoff              url          0  \n",
       "3              Logoff              url          0  \n",
       "4              Logoff              url          0  "
      ]
     },
     "execution_count": 30,
     "metadata": {},
     "output_type": "execute_result"
    }
   ],
   "source": [
    "aggregated_df.head()"
   ]
  },
  {
   "cell_type": "markdown",
   "metadata": {},
   "source": [
    "## Model Preperation and Training"
   ]
  },
  {
   "cell_type": "code",
   "execution_count": 31,
   "metadata": {},
   "outputs": [
    {
     "name": "stdout",
     "output_type": "stream",
     "text": [
      "[[60851  2150]\n",
      " [ 2952   138]]\n",
      "              precision    recall  f1-score   support\n",
      "\n",
      "           0       0.95      0.97      0.96     63001\n",
      "           1       0.06      0.04      0.05      3090\n",
      "\n",
      "    accuracy                           0.92     66091\n",
      "   macro avg       0.51      0.51      0.51     66091\n",
      "weighted avg       0.91      0.92      0.92     66091\n",
      "\n"
     ]
    }
   ],
   "source": [
    "iso_forest = IsolationForest(n_estimators=100, max_samples='auto', contamination=float(0.035), random_state=42)\n",
    "\n",
    "# fit the model on the training data\n",
    "iso_forest.fit(X_train)\n",
    "\n",
    "# predict anomalies on the test set\n",
    "# the model outputs -1 for outliers and 1 for inliers\n",
    "predictions = iso_forest.predict(X_test)\n",
    "\n",
    "# convert predictions to match your label format (1 for anomalies, 0 for normal)\n",
    "predictions = [1 if i == -1 else 0 for i in predictions]\n",
    "\n",
    "# evaluate the model's performance\n",
    "from sklearn.metrics import classification_report, confusion_matrix\n",
    "\n",
    "print(confusion_matrix(y_test, predictions))\n",
    "print(classification_report(y_test, predictions))\n"
   ]
  },
  {
   "cell_type": "code",
   "execution_count": 32,
   "metadata": {},
   "outputs": [
    {
     "data": {
      "image/png": "[encoded data removed]",
      "text/plain": [
       "<Figure size 1000x600 with 1 Axes>"
      ]
     },
     "metadata": {},
     "output_type": "display_data"
    }
   ],
   "source": [
    "# compute anomaly scores on the training data\n",
    "scores = iso_forest.decision_function(X_train)\n",
    "\n",
    "# convert scores to a more intuitive format (higher means more normal)\n",
    "scores = -scores\n",
    "\n",
    "# reshape the scores to match the number of rows in X_train\n",
    "scores = scores.reshape(-1, 1)\n",
    "\n",
    "# separate the scores for anomalous and benign entries\n",
    "y_train_np = np.array(y_train)\n",
    "\n",
    "scores_anomalous = scores[y_train_np == 1]\n",
    "scores_benign = scores[y_train_np == 0]\n",
    "\n",
    "# plotting the scores\n",
    "plt.figure(figsize=(10, 6))\n",
    "plt.hist(scores_benign, bins=50, alpha=0.6, color='green', label='Benign')\n",
    "plt.hist(scores_anomalous, bins=50, alpha=0.6, color='red', label='Anomalous')\n",
    "plt.title(\"Distribution of Anomaly Scores\")\n",
    "plt.xlabel(\"Anomaly Score\")\n",
    "plt.ylabel(\"Frequency\")\n",
    "plt.legend()\n",
    "plt.show()\n",
    "\n"
   ]
  },
  {
   "cell_type": "markdown",
   "metadata": {},
   "source": [
    "## Anomaly Detection"
   ]
  },
  {
   "cell_type": "code",
   "execution_count": 33,
   "metadata": {},
   "outputs": [
    {
     "name": "stdout",
     "output_type": "stream",
     "text": [
      "Training Results\n",
      "Counter({0: 252001, 1: 12360})\n",
      "Testing Results\n",
      "Counter({0: 63001, 1: 3090})\n"
     ]
    },
    {
     "data": {
      "image/png": "[encoded data removed]",
      "text/plain": [
       "<Figure size 640x480 with 1 Axes>"
      ]
     },
     "metadata": {},
     "output_type": "display_data"
    },
    {
     "name": "stdout",
     "output_type": "stream",
     "text": [
      "Optimal Threshold: -0.01720895870337208\n"
     ]
    }
   ],
   "source": [
    "# compute anomaly scores (negative scores indicate anomalies)\n",
    "scores_train = iso_forest.decision_function(X_train)\n",
    "scores_test = iso_forest.decision_function(X_test)\n",
    "\n",
    "# apply the cutoff threshold\n",
    "cutoff = 0.13\n",
    "predictions_train = scores_train < cutoff\n",
    "predictions_test = scores_test < cutoff\n",
    "\n",
    "print(\"Training Results\")\n",
    "print(Counter(y_train[predictions_train]))\n",
    "\n",
    "print(\"Testing Results\")\n",
    "print(Counter(y_test[predictions_test]))\n",
    "\n",
    "# plotting ROC curve to find a better threshold\n",
    "fpr, tpr, thresholds = roc_curve(y_test, -scores_test)\n",
    "roc_auc = auc(fpr, tpr)\n",
    "\n",
    "plt.figure()\n",
    "plt.plot(fpr, tpr, color='darkorange', lw=2, label='ROC curve (area = %0.2f)' % roc_auc)\n",
    "plt.plot([0, 1], [0, 1], color='navy', lw=2, linestyle='--')\n",
    "plt.xlim([0.0, 1.0])\n",
    "plt.ylim([0.0, 1.05])\n",
    "plt.xlabel('False Positive Rate')\n",
    "plt.ylabel('True Positive Rate')\n",
    "plt.title('Receiver Operating Characteristic')\n",
    "plt.legend(loc=\"lower right\")\n",
    "plt.show()\n",
    "\n",
    "# find the optimal threshold\n",
    "optimal_idx = np.argmax(tpr - fpr)\n",
    "optimal_threshold = thresholds[optimal_idx]\n",
    "print(\"Optimal Threshold:\", optimal_threshold)\n"
   ]
  },
  {
   "cell_type": "code",
   "execution_count": 34,
   "metadata": {},
   "outputs": [
    {
     "name": "stdout",
     "output_type": "stream",
     "text": [
      "Training Set Evaluation:\n",
      "[[251935     66]\n",
      " [ 12357      3]]\n",
      "              precision    recall  f1-score   support\n",
      "\n",
      "           0       0.95      1.00      0.98    252001\n",
      "           1       0.04      0.00      0.00     12360\n",
      "\n",
      "    accuracy                           0.95    264361\n",
      "   macro avg       0.50      0.50      0.49    264361\n",
      "weighted avg       0.91      0.95      0.93    264361\n",
      "\n",
      "Test Set Evaluation:\n",
      "[[62982    19]\n",
      " [ 3089     1]]\n",
      "              precision    recall  f1-score   support\n",
      "\n",
      "           0       0.95      1.00      0.98     63001\n",
      "           1       0.05      0.00      0.00      3090\n",
      "\n",
      "    accuracy                           0.95     66091\n",
      "   macro avg       0.50      0.50      0.49     66091\n",
      "weighted avg       0.91      0.95      0.93     66091\n",
      "\n"
     ]
    }
   ],
   "source": [
    "from sklearn.metrics import confusion_matrix, classification_report\n",
    "\n",
    "# The optimal threshold you found\n",
    "optimal_threshold = -0.016635636759359973\n",
    "\n",
    "# Apply the optimal threshold to classify instances in the training set\n",
    "train_predictions = iso_forest.decision_function(X_train) < optimal_threshold\n",
    "train_predictions = np.where(train_predictions, 1, 0)  # Convert to binary labels (1 for anomalies, 0 for normal)\n",
    "\n",
    "# Apply the optimal threshold to classify instances in the test set\n",
    "test_predictions = iso_forest.decision_function(X_test) < optimal_threshold\n",
    "test_predictions = np.where(test_predictions, 1, 0)  # Convert to binary labels\n",
    "\n",
    "# Evaluate the model's performance on the training set\n",
    "print(\"Training Set Evaluation:\")\n",
    "print(confusion_matrix(y_train, train_predictions))\n",
    "print(classification_report(y_train, train_predictions))\n",
    "\n",
    "# Evaluate the model's performance on the test set\n",
    "print(\"Test Set Evaluation:\")\n",
    "print(confusion_matrix(y_test, test_predictions))\n",
    "print(classification_report(y_test, test_predictions))\n"
   ]
  }
 ],
 "metadata": {
  "kernelspec": {
   "display_name": "base",
   "language": "python",
   "name": "python3"
  },
  "language_info": {
   "codemirror_mode": {
    "name": "ipython",
    "version": 3
   },
   "file_extension": ".py",
   "mimetype": "text/x-python",
   "name": "python",
   "nbconvert_exporter": "python",
   "pygments_lexer": "ipython3",
   "version": "3.11.4"
  }
 },
 "nbformat": 4,
 "nbformat_minor": 2
}
